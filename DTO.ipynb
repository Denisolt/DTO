{
 "cells": [
  {
   "cell_type": "markdown",
   "metadata": {},
   "source": [
    "# Delivery Time Optimization\n",
    "\n",
    "### The problem of optimizing the delivery time is similar to Multi-armed Bandit problem. \n",
    "________\n",
    "### Wiki: In probability theory, the multi-armed bandit problem (sometimes called the K- or N-armed bandit problem) is a problem in which a gambler at a row of slot machines (sometimes known as \"one-armed bandits\") has to decide which machines to play, how many times to play each machine and in which order to play them. When played, each machine provides a random reward from a probability distribution specific to that machine. The objective of the gambler is to maximize the sum of rewards earned through a sequence of lever pulls.\n",
    "------------"
   ]
  },
  {
   "cell_type": "markdown",
   "metadata": {},
   "source": [
    "## What to look for?\n",
    "### We will be looking for CTR - Click through Ratio. In order to calculate CTR we need to know how many emails were sent within an hour and how many clicks were performed within an hour as well. Example, from 14:00 - 14:59 there were 10 emails sent, 5 emails were clicked. Therefore CTR is 50%. \n",
    "\n",
    "-----------"
   ]
  },
  {
   "cell_type": "markdown",
   "metadata": {},
   "source": [
    "## The optimum delivery time would be the time with highest CTR.\n",
    "### Let's get technical:\n",
    "_____"
   ]
  },
  {
   "cell_type": "code",
   "execution_count": 1,
   "metadata": {},
   "outputs": [
    {
     "data": {
      "text/html": [
       "<div>\n",
       "<style>\n",
       "    .dataframe thead tr:only-child th {\n",
       "        text-align: right;\n",
       "    }\n",
       "\n",
       "    .dataframe thead th {\n",
       "        text-align: left;\n",
       "    }\n",
       "\n",
       "    .dataframe tbody tr th {\n",
       "        vertical-align: top;\n",
       "    }\n",
       "</style>\n",
       "<table border=\"1\" class=\"dataframe\">\n",
       "  <thead>\n",
       "    <tr style=\"text-align: right;\">\n",
       "      <th></th>\n",
       "      <th>FirstName</th>\n",
       "      <th>LastName</th>\n",
       "      <th>LastOpen</th>\n",
       "      <th>hour</th>\n",
       "      <th>Time_Zone</th>\n",
       "      <th>lat</th>\n",
       "      <th>lng</th>\n",
       "    </tr>\n",
       "  </thead>\n",
       "  <tbody>\n",
       "    <tr>\n",
       "      <th>0</th>\n",
       "      <td>3ae9d8799d1bb5e201e5704293bb54ef</td>\n",
       "      <td>1ba54f44556e8b14b4abca3dbd5dfcd0</td>\n",
       "      <td>2017-05-2022:50:46</td>\n",
       "      <td>2017-05-14 02:40:01</td>\n",
       "      <td>America/Vancouver</td>\n",
       "      <td>3b001cff9216f77d79fcdd34d19cc952</td>\n",
       "      <td>fae96e82b710d2632b15e07e02abeb5b</td>\n",
       "    </tr>\n",
       "    <tr>\n",
       "      <th>1</th>\n",
       "      <td>fc198cb6e0f97fc5d342bd029e77f29f</td>\n",
       "      <td>88a1c7790af92ba224315cabe0ea6829</td>\n",
       "      <td>2017-06-1517:16:36</td>\n",
       "      <td>2017-05-14 02:50:01</td>\n",
       "      <td>Asia/Manila</td>\n",
       "      <td>eb3e9af1d22acd8afb3d3b2d0f2de316</td>\n",
       "      <td>b4077ef95a489c7d513c5c96e859164f</td>\n",
       "    </tr>\n",
       "    <tr>\n",
       "      <th>2</th>\n",
       "      <td>3c25f89d5d1cd320ac8f27efb31e1438</td>\n",
       "      <td>501724f2a104cbac23f1cf549d582a8e</td>\n",
       "      <td>NaN</td>\n",
       "      <td>2017-05-14 02:55:01</td>\n",
       "      <td>Asia/Kolkata</td>\n",
       "      <td>263bdde363ea6155b853e8c70e7965f2</td>\n",
       "      <td>9bd63db17325e647a2391569941b3483</td>\n",
       "    </tr>\n",
       "    <tr>\n",
       "      <th>3</th>\n",
       "      <td>2964815d03a032c8ca37ac5d557647dd</td>\n",
       "      <td>3c31a642927cf90adfce8e94bc3ab80e</td>\n",
       "      <td>NaN</td>\n",
       "      <td>2017-05-14 03:00:03</td>\n",
       "      <td>America/New_York</td>\n",
       "      <td>5456f65988e9ee8394db57bea8393f4c</td>\n",
       "      <td>780b737d587890a076d0115f612f41f9</td>\n",
       "    </tr>\n",
       "  </tbody>\n",
       "</table>\n",
       "</div>"
      ],
      "text/plain": [
       "                          FirstName                          LastName  \\\n",
       "0  3ae9d8799d1bb5e201e5704293bb54ef  1ba54f44556e8b14b4abca3dbd5dfcd0   \n",
       "1  fc198cb6e0f97fc5d342bd029e77f29f  88a1c7790af92ba224315cabe0ea6829   \n",
       "2  3c25f89d5d1cd320ac8f27efb31e1438  501724f2a104cbac23f1cf549d582a8e   \n",
       "3  2964815d03a032c8ca37ac5d557647dd  3c31a642927cf90adfce8e94bc3ab80e   \n",
       "\n",
       "             LastOpen                 hour          Time_Zone  \\\n",
       "0  2017-05-2022:50:46  2017-05-14 02:40:01  America/Vancouver   \n",
       "1  2017-06-1517:16:36  2017-05-14 02:50:01        Asia/Manila   \n",
       "2                 NaN  2017-05-14 02:55:01       Asia/Kolkata   \n",
       "3                 NaN  2017-05-14 03:00:03   America/New_York   \n",
       "\n",
       "                                lat                               lng  \n",
       "0  3b001cff9216f77d79fcdd34d19cc952  fae96e82b710d2632b15e07e02abeb5b  \n",
       "1  eb3e9af1d22acd8afb3d3b2d0f2de316  b4077ef95a489c7d513c5c96e859164f  \n",
       "2  263bdde363ea6155b853e8c70e7965f2  9bd63db17325e647a2391569941b3483  \n",
       "3  5456f65988e9ee8394db57bea8393f4c  780b737d587890a076d0115f612f41f9  "
      ]
     },
     "execution_count": 1,
     "metadata": {},
     "output_type": "execute_result"
    }
   ],
   "source": [
    "# import the packages\n",
    "import pandas as pd\n",
    "# First thing is to load the dataset\n",
    "df = pd.read_csv('data.csv', low_memory = False)\n",
    "df.drop('Unnamed: 0', axis=1, inplace=True)\n",
    "df.head(4)"
   ]
  },
  {
   "cell_type": "code",
   "execution_count": 2,
   "metadata": {},
   "outputs": [
    {
     "data": {
      "text/html": [
       "<div>\n",
       "<style>\n",
       "    .dataframe thead tr:only-child th {\n",
       "        text-align: right;\n",
       "    }\n",
       "\n",
       "    .dataframe thead th {\n",
       "        text-align: left;\n",
       "    }\n",
       "\n",
       "    .dataframe tbody tr th {\n",
       "        vertical-align: top;\n",
       "    }\n",
       "</style>\n",
       "<table border=\"1\" class=\"dataframe\">\n",
       "  <thead>\n",
       "    <tr style=\"text-align: right;\">\n",
       "      <th></th>\n",
       "      <th>FirstName</th>\n",
       "      <th>LastName</th>\n",
       "      <th>LastOpen</th>\n",
       "      <th>hour</th>\n",
       "      <th>Time_Zone</th>\n",
       "      <th>lat</th>\n",
       "      <th>lng</th>\n",
       "    </tr>\n",
       "  </thead>\n",
       "  <tbody>\n",
       "    <tr>\n",
       "      <th>0</th>\n",
       "      <td>3ae9d8799d1bb5e201e5704293bb54ef</td>\n",
       "      <td>1ba54f44556e8b14b4abca3dbd5dfcd0</td>\n",
       "      <td>2017-05-2022:50:46</td>\n",
       "      <td>02</td>\n",
       "      <td>America/Vancouver</td>\n",
       "      <td>3b001cff9216f77d79fcdd34d19cc952</td>\n",
       "      <td>fae96e82b710d2632b15e07e02abeb5b</td>\n",
       "    </tr>\n",
       "    <tr>\n",
       "      <th>1</th>\n",
       "      <td>fc198cb6e0f97fc5d342bd029e77f29f</td>\n",
       "      <td>88a1c7790af92ba224315cabe0ea6829</td>\n",
       "      <td>2017-06-1517:16:36</td>\n",
       "      <td>02</td>\n",
       "      <td>Asia/Manila</td>\n",
       "      <td>eb3e9af1d22acd8afb3d3b2d0f2de316</td>\n",
       "      <td>b4077ef95a489c7d513c5c96e859164f</td>\n",
       "    </tr>\n",
       "    <tr>\n",
       "      <th>2</th>\n",
       "      <td>3c25f89d5d1cd320ac8f27efb31e1438</td>\n",
       "      <td>501724f2a104cbac23f1cf549d582a8e</td>\n",
       "      <td>NaN</td>\n",
       "      <td>02</td>\n",
       "      <td>Asia/Kolkata</td>\n",
       "      <td>263bdde363ea6155b853e8c70e7965f2</td>\n",
       "      <td>9bd63db17325e647a2391569941b3483</td>\n",
       "    </tr>\n",
       "    <tr>\n",
       "      <th>3</th>\n",
       "      <td>2964815d03a032c8ca37ac5d557647dd</td>\n",
       "      <td>3c31a642927cf90adfce8e94bc3ab80e</td>\n",
       "      <td>NaN</td>\n",
       "      <td>03</td>\n",
       "      <td>America/New_York</td>\n",
       "      <td>5456f65988e9ee8394db57bea8393f4c</td>\n",
       "      <td>780b737d587890a076d0115f612f41f9</td>\n",
       "    </tr>\n",
       "  </tbody>\n",
       "</table>\n",
       "</div>"
      ],
      "text/plain": [
       "                          FirstName                          LastName  \\\n",
       "0  3ae9d8799d1bb5e201e5704293bb54ef  1ba54f44556e8b14b4abca3dbd5dfcd0   \n",
       "1  fc198cb6e0f97fc5d342bd029e77f29f  88a1c7790af92ba224315cabe0ea6829   \n",
       "2  3c25f89d5d1cd320ac8f27efb31e1438  501724f2a104cbac23f1cf549d582a8e   \n",
       "3  2964815d03a032c8ca37ac5d557647dd  3c31a642927cf90adfce8e94bc3ab80e   \n",
       "\n",
       "             LastOpen hour          Time_Zone  \\\n",
       "0  2017-05-2022:50:46   02  America/Vancouver   \n",
       "1  2017-06-1517:16:36   02        Asia/Manila   \n",
       "2                 NaN   02       Asia/Kolkata   \n",
       "3                 NaN   03   America/New_York   \n",
       "\n",
       "                                lat                               lng  \n",
       "0  3b001cff9216f77d79fcdd34d19cc952  fae96e82b710d2632b15e07e02abeb5b  \n",
       "1  eb3e9af1d22acd8afb3d3b2d0f2de316  b4077ef95a489c7d513c5c96e859164f  \n",
       "2  263bdde363ea6155b853e8c70e7965f2  9bd63db17325e647a2391569941b3483  \n",
       "3  5456f65988e9ee8394db57bea8393f4c  780b737d587890a076d0115f612f41f9  "
      ]
     },
     "execution_count": 2,
     "metadata": {},
     "output_type": "execute_result"
    }
   ],
   "source": [
    "# we will be looking into DateAdded, and Last Open. If LastOpen is NaN, this means that email was not open at all\n",
    "# we need to drop the dates, and leave only the time\n",
    "# Now, in my opinion to make it easier, we should adjust the DateAdded to the range from 10:00 to 10:59\n",
    "df['hour'] = df['hour'].str[10:]\n",
    "df['hour'] = df['hour'].str[:3]\n",
    "df.head(4)"
   ]
  },
  {
   "cell_type": "code",
   "execution_count": 3,
   "metadata": {},
   "outputs": [
    {
     "data": {
      "text/html": [
       "<div>\n",
       "<style>\n",
       "    .dataframe thead tr:only-child th {\n",
       "        text-align: right;\n",
       "    }\n",
       "\n",
       "    .dataframe thead th {\n",
       "        text-align: left;\n",
       "    }\n",
       "\n",
       "    .dataframe tbody tr th {\n",
       "        vertical-align: top;\n",
       "    }\n",
       "</style>\n",
       "<table border=\"1\" class=\"dataframe\">\n",
       "  <thead>\n",
       "    <tr style=\"text-align: right;\">\n",
       "      <th></th>\n",
       "      <th>FirstName</th>\n",
       "      <th>LastName</th>\n",
       "      <th>LastOpen</th>\n",
       "      <th>hour</th>\n",
       "      <th>Time_Zone</th>\n",
       "      <th>lat</th>\n",
       "      <th>lng</th>\n",
       "      <th>Opened</th>\n",
       "    </tr>\n",
       "  </thead>\n",
       "  <tbody>\n",
       "    <tr>\n",
       "      <th>0</th>\n",
       "      <td>3ae9d8799d1bb5e201e5704293bb54ef</td>\n",
       "      <td>1ba54f44556e8b14b4abca3dbd5dfcd0</td>\n",
       "      <td>2017-05-2022:50:46</td>\n",
       "      <td>02</td>\n",
       "      <td>America/Vancouver</td>\n",
       "      <td>3b001cff9216f77d79fcdd34d19cc952</td>\n",
       "      <td>fae96e82b710d2632b15e07e02abeb5b</td>\n",
       "      <td>True</td>\n",
       "    </tr>\n",
       "    <tr>\n",
       "      <th>1</th>\n",
       "      <td>fc198cb6e0f97fc5d342bd029e77f29f</td>\n",
       "      <td>88a1c7790af92ba224315cabe0ea6829</td>\n",
       "      <td>2017-06-1517:16:36</td>\n",
       "      <td>02</td>\n",
       "      <td>Asia/Manila</td>\n",
       "      <td>eb3e9af1d22acd8afb3d3b2d0f2de316</td>\n",
       "      <td>b4077ef95a489c7d513c5c96e859164f</td>\n",
       "      <td>True</td>\n",
       "    </tr>\n",
       "    <tr>\n",
       "      <th>2</th>\n",
       "      <td>3c25f89d5d1cd320ac8f27efb31e1438</td>\n",
       "      <td>501724f2a104cbac23f1cf549d582a8e</td>\n",
       "      <td>NaN</td>\n",
       "      <td>02</td>\n",
       "      <td>Asia/Kolkata</td>\n",
       "      <td>263bdde363ea6155b853e8c70e7965f2</td>\n",
       "      <td>9bd63db17325e647a2391569941b3483</td>\n",
       "      <td>False</td>\n",
       "    </tr>\n",
       "    <tr>\n",
       "      <th>3</th>\n",
       "      <td>2964815d03a032c8ca37ac5d557647dd</td>\n",
       "      <td>3c31a642927cf90adfce8e94bc3ab80e</td>\n",
       "      <td>NaN</td>\n",
       "      <td>03</td>\n",
       "      <td>America/New_York</td>\n",
       "      <td>5456f65988e9ee8394db57bea8393f4c</td>\n",
       "      <td>780b737d587890a076d0115f612f41f9</td>\n",
       "      <td>False</td>\n",
       "    </tr>\n",
       "  </tbody>\n",
       "</table>\n",
       "</div>"
      ],
      "text/plain": [
       "                          FirstName                          LastName  \\\n",
       "0  3ae9d8799d1bb5e201e5704293bb54ef  1ba54f44556e8b14b4abca3dbd5dfcd0   \n",
       "1  fc198cb6e0f97fc5d342bd029e77f29f  88a1c7790af92ba224315cabe0ea6829   \n",
       "2  3c25f89d5d1cd320ac8f27efb31e1438  501724f2a104cbac23f1cf549d582a8e   \n",
       "3  2964815d03a032c8ca37ac5d557647dd  3c31a642927cf90adfce8e94bc3ab80e   \n",
       "\n",
       "             LastOpen hour          Time_Zone  \\\n",
       "0  2017-05-2022:50:46   02  America/Vancouver   \n",
       "1  2017-06-1517:16:36   02        Asia/Manila   \n",
       "2                 NaN   02       Asia/Kolkata   \n",
       "3                 NaN   03   America/New_York   \n",
       "\n",
       "                                lat                               lng  Opened  \n",
       "0  3b001cff9216f77d79fcdd34d19cc952  fae96e82b710d2632b15e07e02abeb5b    True  \n",
       "1  eb3e9af1d22acd8afb3d3b2d0f2de316  b4077ef95a489c7d513c5c96e859164f    True  \n",
       "2  263bdde363ea6155b853e8c70e7965f2  9bd63db17325e647a2391569941b3483   False  \n",
       "3  5456f65988e9ee8394db57bea8393f4c  780b737d587890a076d0115f612f41f9   False  "
      ]
     },
     "execution_count": 3,
     "metadata": {},
     "output_type": "execute_result"
    }
   ],
   "source": [
    "# Excellent\n",
    "# now, last open can be changed into Boolean, since we don't really need to know when it was opened\n",
    "# we just need to know wether they were opened/clicked or not.\n",
    "df['Opened'] = pd.notnull(df['LastOpen'])\n",
    "df.head(4)"
   ]
  },
  {
   "cell_type": "markdown",
   "metadata": {},
   "source": [
    "Noice. \n",
    "Makes life a bit easier, we dont really need the rest of the info, I want to keep the city and country in case we will want to adjust the tool for each time zone. However I have read that it is possible to make a general case for all time zones at once. \n",
    "Let's calculate the ratio, I want to do that by first counting number of emails for each HourSent"
   ]
  },
  {
   "cell_type": "code",
   "execution_count": 4,
   "metadata": {},
   "outputs": [],
   "source": [
    "# the hours column can be optimized by making it catagorical\n",
    "# also, you may want to correct hour extraction; df.hour[0]\n",
    "df.hour = df.hour.astype('category')"
   ]
  },
  {
   "cell_type": "code",
   "execution_count": 5,
   "metadata": {
    "collapsed": true
   },
   "outputs": [],
   "source": [
    "# here is one way to build a mapping of hour to open ration\n",
    "hour_ratio_lookup = {}\n",
    "for hour in df.hour.unique():\n",
    "    sdf = df[df.hour == hour]\n",
    "    n_total_emails = len(sdf)\n",
    "    n_opened_emails = sdf.Opened.sum()\n",
    "    hour_ratio_lookup[hour] = n_opened_emails / n_total_emails"
   ]
  },
  {
   "cell_type": "code",
   "execution_count": 6,
   "metadata": {},
   "outputs": [
    {
     "name": "stdout",
     "output_type": "stream",
     "text": [
      "{' 02': 0.49470396523628463, ' 03': 0.5024898143956541, ' 04': 0.57051909892262487, ' 05': 0.63250049183553025, ' 06': 0.70409792442788721, ' 07': 0.72022684310018903, ' 08': 0.74280853696257343, ' 09': 0.82026527113597403, ' 10': 0.83757325060324028, ' 11': 0.85481784133469529, ' 12': 0.791296, ' 13': 0.66171003717472121, ' 14': 0.80939947780678856, ' 15': 0.86462217487253634, ' 16': 0.92475319594194982, ' 17': 0.91249034485892133, ' 18': 0.84664110114360058, ' 19': 0.80264146891442067, ' 20': 0.78920907418761499, ' 21': 0.81830508474576269, ' 22': 0.74678473539953616, ' 23': 0.72879942829919009, ' 00': 0.71167966957319873, ' 01': 0.5751272884844546}\n"
     ]
    }
   ],
   "source": [
    "# printing the dictionary\n",
    "print(hour_ratio_lookup)\n",
    "ser = pd.Series(hour_ratio_lookup)\n",
    "ndf = pd.DataFrame(columns=['hour', 'open_ratio'])\n",
    "ndf.hour, ndf.open_ratio = ser.index, ser.values\n",
    "# now let's apply the mapping and add the ratio column\n",
    "df['open_ratio'] = df.hour.map(hour_ratio_lookup)"
   ]
  },
  {
   "cell_type": "code",
   "execution_count": 7,
   "metadata": {},
   "outputs": [
    {
     "data": {
      "text/html": [
       "<div>\n",
       "<style>\n",
       "    .dataframe thead tr:only-child th {\n",
       "        text-align: right;\n",
       "    }\n",
       "\n",
       "    .dataframe thead th {\n",
       "        text-align: left;\n",
       "    }\n",
       "\n",
       "    .dataframe tbody tr th {\n",
       "        vertical-align: top;\n",
       "    }\n",
       "</style>\n",
       "<table border=\"1\" class=\"dataframe\">\n",
       "  <thead>\n",
       "    <tr style=\"text-align: right;\">\n",
       "      <th></th>\n",
       "      <th>hour</th>\n",
       "      <th>open_ratio</th>\n",
       "    </tr>\n",
       "  </thead>\n",
       "  <tbody>\n",
       "    <tr>\n",
       "      <th>0</th>\n",
       "      <td>00</td>\n",
       "      <td>0.711680</td>\n",
       "    </tr>\n",
       "    <tr>\n",
       "      <th>1</th>\n",
       "      <td>01</td>\n",
       "      <td>0.575127</td>\n",
       "    </tr>\n",
       "    <tr>\n",
       "      <th>2</th>\n",
       "      <td>02</td>\n",
       "      <td>0.494704</td>\n",
       "    </tr>\n",
       "    <tr>\n",
       "      <th>3</th>\n",
       "      <td>03</td>\n",
       "      <td>0.502490</td>\n",
       "    </tr>\n",
       "    <tr>\n",
       "      <th>4</th>\n",
       "      <td>04</td>\n",
       "      <td>0.570519</td>\n",
       "    </tr>\n",
       "  </tbody>\n",
       "</table>\n",
       "</div>"
      ],
      "text/plain": [
       "  hour  open_ratio\n",
       "0   00    0.711680\n",
       "1   01    0.575127\n",
       "2   02    0.494704\n",
       "3   03    0.502490\n",
       "4   04    0.570519"
      ]
     },
     "execution_count": 7,
     "metadata": {},
     "output_type": "execute_result"
    }
   ],
   "source": [
    "ndf.head()"
   ]
  },
  {
   "cell_type": "code",
   "execution_count": 8,
   "metadata": {},
   "outputs": [
    {
     "data": {
      "text/plain": [
       "<matplotlib.axes._subplots.AxesSubplot at 0x10d07c860>"
      ]
     },
     "execution_count": 8,
     "metadata": {},
     "output_type": "execute_result"
    },
    {
     "data": {
      "image/png": "[encoded data removed]",
      "text/plain": [
       "<matplotlib.figure.Figure at 0x10cfeddd8>"
      ]
     },
     "metadata": {},
     "output_type": "display_data"
    }
   ],
   "source": [
    "import matplotlib.pyplot as plt\n",
    "%matplotlib inline\n",
    "\n",
    "ndf.plot.bar(x='hour', y='open_ratio')"
   ]
  },
  {
   "cell_type": "markdown",
   "metadata": {},
   "source": [
    "### Thanks to Rajan Khullar for help and Ravi Kiran Holur Vijay for his article"
   ]
  },
  {
   "cell_type": "code",
   "execution_count": null,
   "metadata": {
    "collapsed": true
   },
   "outputs": [],
   "source": []
  }
 ],
 "metadata": {
  "kernelspec": {
   "display_name": "Python 3",
   "language": "python",
   "name": "python3"
  },
  "language_info": {
   "codemirror_mode": {
    "name": "ipython",
    "version": 3
   },
   "file_extension": ".py",
   "mimetype": "text/x-python",
   "name": "python",
   "nbconvert_exporter": "python",
   "pygments_lexer": "ipython3",
   "version": "3.6.1"
  }
 },
 "nbformat": 4,
 "nbformat_minor": 2
}
